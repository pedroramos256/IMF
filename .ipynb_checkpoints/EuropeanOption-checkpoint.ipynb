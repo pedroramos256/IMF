{
 "cells": [
  {
   "cell_type": "markdown",
   "id": "a4e77dec",
   "metadata": {},
   "source": [
    "# European Options"
   ]
  },
  {
   "cell_type": "code",
   "execution_count": 1,
   "id": "11a18338",
   "metadata": {},
   "outputs": [],
   "source": [
    "import matplotlib.pyplot as plt\n",
    "import numpy as np\n",
    "from tqdm import tqdm"
   ]
  },
  {
   "cell_type": "code",
   "execution_count": 29,
   "id": "fd8c89da",
   "metadata": {},
   "outputs": [],
   "source": [
    "S0 = 100\n",
    "r = 0.05\n",
    "sigma = 0.2\n",
    "sampleX = np.random.normal(0,1,10000)\n",
    "\n",
    "def S(X_i,T):\n",
    "    return S0*np.exp((r-sigma**2/2)*T+sigma*np.sqrt(T)*X_i)"
   ]
  },
  {
   "cell_type": "code",
   "execution_count": 46,
   "id": "cdba5af1",
   "metadata": {},
   "outputs": [],
   "source": [
    "def vanillaPayoff(X_i,T,K):\n",
    "    return max(0,S(X_i,T)-K)"
   ]
  },
  {
   "cell_type": "code",
   "execution_count": 55,
   "id": "b54d72a7",
   "metadata": {},
   "outputs": [],
   "source": [
    "def antitheticPayoff(X_i,T,K):\n",
    "    return (max(0,S(X_i,T)-K)+max(0,S(-X_i,T)-K))/2"
   ]
  },
  {
   "cell_type": "code",
   "execution_count": 52,
   "id": "58f9462e",
   "metadata": {},
   "outputs": [],
   "source": [
    "def getCk(X,T,K,payoff):\n",
    "    total = 0\n",
    "    for X_i in X:\n",
    "        total += payoff(X_i,T,K)\n",
    "    return np.exp(-r*T)*total/len(X)"
   ]
  },
  {
   "cell_type": "code",
   "execution_count": 56,
   "id": "b0a35c2b",
   "metadata": {},
   "outputs": [],
   "source": [
    "def getStdError(X,T,K,Ck,payoff):\n",
    "    total = 0\n",
    "    for X_i in X:\n",
    "        total += (np.exp(-r*T)*payoff(X_i,T,K)-Ck)**2\n",
    "    return np.sqrt(total/(len(X)-1))/np.sqrt(len(X))"
   ]
  },
  {
   "cell_type": "code",
   "execution_count": 6,
   "id": "25027b7a",
   "metadata": {},
   "outputs": [
    {
     "data": {
      "image/png": "[encoded data removed]",
      "text/plain": [
       "<Figure size 432x288 with 1 Axes>"
      ]
     },
     "metadata": {
      "needs_background": "light"
     },
     "output_type": "display_data"
    }
   ],
   "source": [
    "plt.hist(sampleX, 50, density=True)\n",
    "plt.show()"
   ]
  },
  {
   "cell_type": "code",
   "execution_count": 58,
   "id": "8dfea456",
   "metadata": {},
   "outputs": [
    {
     "name": "stdout",
     "output_type": "stream",
     "text": [
      "Simple: K = 90 T = 2 Ck = 22.42490284171409 StdError = 0.2560842506203914\n",
      "Antithetic: K = 90 T = 2 Ck = 22.287611945727214 0.10368529772158191\n",
      "Simple: K = 90 T = 4 Ck = 31.287031845453633 StdError = 0.3825820518085695\n",
      "Antithetic: K = 90 T = 4 Ck = 31.07899206508117 0.1702738472683973\n",
      "Simple: K = 90 T = 6 Ck = 38.656279659629284 StdError = 0.4922332978542902\n",
      "Antithetic: K = 90 T = 6 Ck = 38.38429404793078 0.23065359368169744\n",
      "Simple: K = 90 T = 8 Ck = 45.055249532911155 StdError = 0.5935803349953666\n",
      "Antithetic: K = 90 T = 8 Ck = 44.724096208773716 0.2890548264211436\n",
      "Simple: K = 100 T = 2 Ck = 16.54583015008132 StdError = 0.23113750911274647\n",
      "Antithetic: K = 100 T = 2 Ck = 16.41539710783774 0.11436461109063614\n",
      "Simple: K = 100 T = 4 Ck = 25.856855756037955 StdError = 0.3615624475046248\n",
      "Antithetic: K = 100 T = 4 Ck = 25.65643835159377 0.1802353208734306\n",
      "Simple: K = 100 T = 6 Ck = 33.61549323478135 StdError = 0.4746119651021054\n",
      "Antithetic: K = 100 T = 6 Ck = 33.35775400967821 0.239981122911063\n",
      "Simple: K = 100 T = 8 Ck = 40.38766415386784 StdError = 0.5787853932743074\n",
      "Antithetic: K = 100 T = 8 Ck = 40.076210309914174 0.29769202549567086\n",
      "Simple: K = 110 T = 2 Ck = 11.884104316212746 StdError = 0.2027935217466661\n",
      "Antithetic: K = 110 T = 2 Ck = 11.75341206680422 0.11570763189383422\n",
      "Simple: K = 110 T = 4 Ck = 21.214347878075113 StdError = 0.33784342013235397\n",
      "Antithetic: K = 110 T = 4 Ck = 21.01377883407845 0.1851707833230223\n",
      "Simple: K = 110 T = 6 Ck = 29.167129988326476 StdError = 0.4546853722447888\n",
      "Antithetic: K = 110 T = 6 Ck = 28.904897068998007 0.2460523372969093\n",
      "Simple: K = 110 T = 8 Ck = 36.18059045835888 StdError = 0.5620747445023833\n",
      "Antithetic: K = 110 T = 8 Ck = 35.86399360139549 0.3041081067708906\n"
     ]
    }
   ],
   "source": [
    "Ts = [2,4,6,8]\n",
    "Ks = [90,100,110]\n",
    "\n",
    "for K in Ks:\n",
    "    for T in Ts:\n",
    "        Ck = getCk(sampleX,T,K,vanillaPayoff)\n",
    "        antitheticCk = getCk(sampleX,T,K,antitheticPayoff)\n",
    "        print(\"Simple: K =\",K,\"T =\",T,\"Ck =\",Ck,\"StdError =\",getStdError(sampleX,T,K,Ck,vanillaPayoff))\n",
    "        print(\"Antithetic: K =\",K,\"T =\",T,\"Ck =\",antitheticCk,getStdError(sampleX,T,K,antitheticCk,antitheticPayoff))"
   ]
  },
  {
   "cell_type": "markdown",
   "id": "38133681",
   "metadata": {},
   "source": [
    "# Asian Options"
   ]
  },
  {
   "cell_type": "code",
   "execution_count": 60,
   "id": "f184d43a",
   "metadata": {},
   "outputs": [],
   "source": [
    "def getArithmeticAsianCk(X,T,K,m):\n",
    "    total = 0\n",
    "    for X_i in X:\n",
    "        S_list = []\n",
    "        for j in range(m+1):\n",
    "            S_list.append(S(X_i,j*T/m))\n",
    "        total += max(0,np.mean(S_list)-K)\n",
    "    return "
   ]
  },
  {
   "cell_type": "code",
   "execution_count": null,
   "id": "514e7e86",
   "metadata": {},
   "outputs": [],
   "source": [
    "ms = [10,20,50,100,200,500]\n",
    "T = 1\n",
    "\n",
    "for K in Ks:\n",
    "    for m in ms:\n",
    "        Ck = getArithmeticAsianCk(sampleX,T,K,m)\n",
    "        print(Ck)\n",
    "    \n"
   ]
  }
 ],
 "metadata": {
  "kernelspec": {
   "display_name": "Python 3 (ipykernel)",
   "language": "python",
   "name": "python3"
  },
  "language_info": {
   "codemirror_mode": {
    "name": "ipython",
    "version": 3
   },
   "file_extension": ".py",
   "mimetype": "text/x-python",
   "name": "python",
   "nbconvert_exporter": "python",
   "pygments_lexer": "ipython3",
   "version": "3.8.5"
  }
 },
 "nbformat": 4,
 "nbformat_minor": 5
}
