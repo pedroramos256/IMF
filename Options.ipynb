{
 "cells": [
  {
   "cell_type": "markdown",
   "id": "9f817a40",
   "metadata": {},
   "source": [
    "# European Options"
   ]
  },
  {
   "cell_type": "code",
   "execution_count": 63,
   "id": "11a18338",
   "metadata": {
    "scrolled": false
   },
   "outputs": [],
   "source": [
    "import matplotlib.pyplot as plt\n",
    "import numpy as np\n",
    "from tqdm import tqdm\n",
    "import yfinance as yf\n",
    "import pandas as pd"
   ]
  },
  {
   "cell_type": "code",
   "execution_count": 26,
   "id": "fd8c89da",
   "metadata": {},
   "outputs": [],
   "source": [
    "S0 = 100\n",
    "r = 0.05\n",
    "sigma = 0.2\n",
    "sampleX = np.random.normal(0,1,10000)\n",
    "\n",
    "def S(X_i,T):\n",
    "    return S0*np.exp((r-sigma**2/2)*T+sigma*np.sqrt(T)*X_i)"
   ]
  },
  {
   "cell_type": "code",
   "execution_count": 27,
   "id": "cdba5af1",
   "metadata": {},
   "outputs": [],
   "source": [
    "def vanillaPayoff(X_i,T,K,m=None):\n",
    "    return max(0,S(X_i,T)-K)"
   ]
  },
  {
   "cell_type": "code",
   "execution_count": 28,
   "id": "b54d72a7",
   "metadata": {},
   "outputs": [],
   "source": [
    "def antitheticPayoff(X_i,T,K,m=None):\n",
    "    return (max(0,S(X_i,T)-K)+max(0,S(-X_i,T)-K))/2"
   ]
  },
  {
   "cell_type": "code",
   "execution_count": 55,
   "id": "58f9462e",
   "metadata": {},
   "outputs": [],
   "source": [
    "def getCk(X,T,K,payoff,m=None):\n",
    "    total = 0\n",
    "    for X_i in X:\n",
    "        total += payoff(X_i,T,K,m)\n",
    "    return np.exp(-r*T)*total/len(X)"
   ]
  },
  {
   "cell_type": "code",
   "execution_count": 30,
   "id": "b0a35c2b",
   "metadata": {},
   "outputs": [],
   "source": [
    "def getStdError(X,T,K,Ck,payoff,m=None):\n",
    "    total = 0\n",
    "    for X_i in X:\n",
    "        total += (np.exp(-r*T)*payoff(X_i,T,K,m)-Ck)**2\n",
    "    return np.sqrt(total/(len(X)-1))/np.sqrt(len(X))"
   ]
  },
  {
   "cell_type": "code",
   "execution_count": 31,
   "id": "25027b7a",
   "metadata": {
    "scrolled": true
   },
   "outputs": [
    {
     "data": {
      "image/png": "[encoded data removed]",
      "text/plain": [
       "<Figure size 432x288 with 1 Axes>"
      ]
     },
     "metadata": {
      "needs_background": "light"
     },
     "output_type": "display_data"
    }
   ],
   "source": [
    "plt.hist(sampleX, 50, density=True)\n",
    "plt.show()"
   ]
  },
  {
   "cell_type": "markdown",
   "id": "fd63f616",
   "metadata": {},
   "source": [
    "# Asian Options"
   ]
  },
  {
   "cell_type": "code",
   "execution_count": 33,
   "id": "3a3779f7",
   "metadata": {},
   "outputs": [],
   "source": [
    "def vanillaPayoffAsian(X_i,T,K,m):\n",
    "    Slist = []\n",
    "    for j in range(m+1):\n",
    "        Slist.append(S(X_i,j*T/m))\n",
    "    return max(0,np.mean(Slist)-K)"
   ]
  },
  {
   "cell_type": "code",
   "execution_count": 41,
   "id": "015fae23",
   "metadata": {},
   "outputs": [],
   "source": [
    "def antitheticPayoffAsian(X_i,T,K,m):\n",
    "    Slist = []\n",
    "    minusSlist = []\n",
    "    for j in range(m+1):\n",
    "        Slist.append(S(X_i,j*T/m))\n",
    "        minusSlist.append(S(-X_i,j*T/m))\n",
    "    return (max(0,np.mean(Slist)-K)+max(0,np.mean(minusSlist)-K))/2"
   ]
  },
  {
   "cell_type": "markdown",
   "id": "c375a4a6",
   "metadata": {},
   "source": [
    "# Reproduction of results"
   ]
  },
  {
   "cell_type": "markdown",
   "id": "59fd8fea",
   "metadata": {},
   "source": [
    "### European options"
   ]
  },
  {
   "cell_type": "code",
   "execution_count": 56,
   "id": "bcb2bd1b",
   "metadata": {},
   "outputs": [
    {
     "name": "stdout",
     "output_type": "stream",
     "text": [
      "K\tm\tCk\tstd\t~Ck\t~std\n",
      "90\t2\t21.9892\t0.2486\t21.9563\t0.1002\n",
      "90\t4\t30.5806\t0.37\t30.5339\t0.1639\n",
      "90\t6\t37.7062\t0.4746\t37.6475\t0.221\n",
      "90\t8\t43.8758\t0.5704\t43.8063\t0.2757\n",
      "100\t2\t16.0536\t0.2239\t16.0211\t0.1113\n",
      "100\t4\t25.1013\t0.3492\t25.0562\t0.1742\n",
      "100\t6\t32.6328\t0.457\t32.5762\t0.2307\n",
      "100\t8\t39.1834\t0.5556\t39.1182\t0.2846\n",
      "110\t2\t11.3761\t0.1958\t11.3457\t0.1128\n",
      "110\t4\t20.4173\t0.3258\t20.3675\t0.1796\n",
      "110\t6\t28.1256\t0.4374\t28.066\t0.2372\n",
      "110\t8\t34.9215\t0.5391\t34.854\t0.2914\n"
     ]
    }
   ],
   "source": [
    "Ks = [90,100,110]\n",
    "Ts = [2,4,6,8]\n",
    "\n",
    "print(\"K\\tm\\tCk\\tstd\\t~Ck\\t~std\")\n",
    "for K in Ks:\n",
    "    for T in Ts:\n",
    "        Ck = round(getCk(sampleX,T,K,vanillaPayoff),4)\n",
    "        antitheticCk = round(getCk(sampleX,T,K,antitheticPayoff),4)\n",
    "        print(K,T,Ck,round(getStdError(sampleX,T,K,Ck,vanillaPayoff),4),\n",
    "              antitheticCk,round(getStdError(sampleX,T,K,antitheticCk,antitheticPayoff),4),sep=\"\\t\")"
   ]
  },
  {
   "cell_type": "markdown",
   "id": "e06cfb57",
   "metadata": {},
   "source": [
    "### Asian options"
   ]
  },
  {
   "cell_type": "code",
   "execution_count": 48,
   "id": "aef66a99",
   "metadata": {
    "scrolled": true
   },
   "outputs": [
    {
     "name": "stdout",
     "output_type": "stream",
     "text": [
      "K\tm\tCk\tstd\t~Ck\t~std\n",
      "90\t10\t12.884\t0.1137\t12.8591\t0.0316\n",
      "90\t20\t12.934\t0.115\t12.9093\t0.0322\n",
      "90\t50\t12.9634\t0.1158\t12.9388\t0.0326\n",
      "90\t100\t12.9728\t0.116\t12.9482\t0.0327\n",
      "90\t200\t12.9773\t0.1162\t12.9528\t0.0328\n",
      "90\t500\t12.9799\t0.1162\t12.9554\t0.0328\n",
      "100\t10\t6.2539\t0.0886\t6.2388\t0.0445\n",
      "100\t20\t6.3319\t0.0898\t6.3165\t0.0451\n",
      "100\t50\t6.3773\t0.0904\t6.3618\t0.0455\n",
      "100\t100\t6.3917\t0.0906\t6.3761\t0.0456\n",
      "100\t200\t6.3986\t0.0907\t6.383\t0.0456\n",
      "100\t500\t6.4026\t0.0908\t6.387\t0.0457\n",
      "110\t10\t2.4551\t0.0575\t2.4416\t0.0369\n",
      "110\t20\t2.5203\t0.0586\t2.5064\t0.0375\n",
      "110\t50\t2.5583\t0.0592\t2.5442\t0.0379\n",
      "110\t100\t2.5704\t0.0594\t2.5563\t0.038\n",
      "110\t200\t2.5762\t0.0595\t2.5621\t0.0381\n",
      "110\t500\t2.5795\t0.0596\t2.5654\t0.0381\n"
     ]
    }
   ],
   "source": [
    "Ks = [90,100,110]\n",
    "ms = [10,20,50,100,200,500]\n",
    "T = 1\n",
    "\n",
    "print(\"K\\tm\\tCk\\tstd\\t~Ck\\t~std\")\n",
    "for K in Ks:\n",
    "    for m in ms:\n",
    "        Ck = round(getCk(sampleX,T,K,vanillaPayoffAsian,m),4)\n",
    "        antitheticCk = round(getCk(sampleX,T,K,antitheticPayoffAsian,m),4)\n",
    "        print(K,m,Ck,round(getStdError(sampleX,T,K,Ck,vanillaPayoffAsian,m),4),\n",
    "            antitheticCk,round(getStdError(sampleX,T,K,antitheticCk,antitheticPayoffAsian,m),4),sep=\"\\t\")"
   ]
  }
 ],
 "metadata": {
  "kernelspec": {
   "display_name": "Python 3 (ipykernel)",
   "language": "python",
   "name": "python3"
  },
  "language_info": {
   "codemirror_mode": {
    "name": "ipython",
    "version": 3
   },
   "file_extension": ".py",
   "mimetype": "text/x-python",
   "name": "python",
   "nbconvert_exporter": "python",
   "pygments_lexer": "ipython3",
   "version": "3.8.5"
  }
 },
 "nbformat": 4,
 "nbformat_minor": 5
}
