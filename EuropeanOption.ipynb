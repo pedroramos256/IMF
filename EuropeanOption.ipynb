{
 "cells": [
  {
   "cell_type": "code",
   "execution_count": 13,
   "id": "11a18338",
   "metadata": {},
   "outputs": [],
   "source": [
    "import matplotlib.pyplot as plt\n",
    "import numpy as np\n",
    "from tqdm import tqdm"
   ]
  },
  {
   "cell_type": "code",
   "execution_count": 14,
   "id": "fd8c89da",
   "metadata": {},
   "outputs": [],
   "source": [
    "S0 = 100\n",
    "r = 0.05\n",
    "sigma = 0.2\n",
    "sampleX = np.random.normal(0,1,10000)\n",
    "\n",
    "def S(X_i,T):\n",
    "    return S0*np.exp((r-sigma**2/2)*T+sigma*np.sqrt(T)*X_i)"
   ]
  },
  {
   "cell_type": "code",
   "execution_count": 21,
   "id": "86ec8de5",
   "metadata": {},
   "outputs": [],
   "source": [
    "def getTheta(X,T,K):\n",
    "    total = 0\n",
    "    for X_i in X:\n",
    "        total += S(X_i,T)\n",
    "    return total/len(X)"
   ]
  },
  {
   "cell_type": "code",
   "execution_count": 22,
   "id": "58f9462e",
   "metadata": {},
   "outputs": [],
   "source": [
    "def getCk(X,T,K,theta):\n",
    "    total = 0\n",
    "    for X_i in X:\n",
    "        total += max(0,S(X_i,T)-K)\n",
    "    return np.exp(-r*T)*total/len(X)"
   ]
  },
  {
   "cell_type": "code",
   "execution_count": 28,
   "id": "b0a35c2b",
   "metadata": {},
   "outputs": [],
   "source": [
    "def getStdError(X,T,theta):\n",
    "    total = 0\n",
    "    for X_i in X:\n",
    "        total += (S(X_i,T)-theta)**2\n",
    "    return np.sqrt(total/(len(X)-1))"
   ]
  },
  {
   "cell_type": "code",
   "execution_count": 43,
   "id": "25027b7a",
   "metadata": {},
   "outputs": [
    {
     "data": {
      "image/png": "[encoded data removed]",
      "text/plain": [
       "<Figure size 432x288 with 1 Axes>"
      ]
     },
     "metadata": {
      "needs_background": "light"
     },
     "output_type": "display_data"
    }
   ],
   "source": [
    "plt.hist(X, 50, density=True)\n",
    "plt.show()"
   ]
  },
  {
   "cell_type": "code",
   "execution_count": 29,
   "id": "8dfea456",
   "metadata": {},
   "outputs": [
    {
     "name": "stdout",
     "output_type": "stream",
     "text": [
      "Simple: K = 90 T = 2 Ck = 21.887049278961786 StdError = 31.908185654677276\n",
      "Antithetic: K = 90 T = 2 Ck = 22.041899312971687\n",
      "Simple: K = 90 T = 4 Ck = 30.457091014946478 StdError = 50.929282401637366\n",
      "Antithetic: K = 90 T = 4 Ck = 30.669070333674927\n",
      "Simple: K = 90 T = 6 Ck = 37.57343969081571 StdError = 70.43359013220802\n",
      "Antithetic: K = 90 T = 6 Ck = 37.82815269162388\n",
      "Simple: K = 90 T = 8 Ck = 43.742149205359674 StdError = 91.88210656647807\n",
      "Antithetic: K = 90 T = 8 Ck = 44.029286038127694\n",
      "Simple: K = 100 T = 2 Ck = 15.980893926464457 StdError = 31.908185654677276\n",
      "Antithetic: K = 100 T = 2 Ck = 16.104118265827587\n",
      "Simple: K = 100 T = 4 Ck = 25.008829215334135 StdError = 50.929282401637366\n",
      "Antithetic: K = 100 T = 4 Ck = 25.189467225273226\n",
      "Simple: K = 100 T = 6 Ck = 32.53036324094802 StdError = 70.43359013220802\n",
      "Antithetic: K = 100 T = 6 Ck = 32.75416772268078\n",
      "Simple: K = 100 T = 8 Ck = 39.07802683282358 StdError = 91.88210656647807\n",
      "Antithetic: K = 100 T = 8 Ck = 39.33616776918364\n",
      "Simple: K = 110 T = 2 Ck = 11.330656772181277 StdError = 31.908185654677276\n",
      "Antithetic: K = 110 T = 2 Ck = 11.428085292991025\n",
      "Simple: K = 110 T = 4 Ck = 20.335150622862766 StdError = 50.929282401637366\n",
      "Antithetic: K = 110 T = 4 Ck = 20.495869316398746\n",
      "Simple: K = 110 T = 6 Ck = 28.036490736458504 StdError = 70.43359013220802\n",
      "Antithetic: K = 110 T = 6 Ck = 28.242349857527962\n",
      "Simple: K = 110 T = 8 Ck = 34.835858055617216 StdError = 91.88210656647807\n",
      "Antithetic: K = 110 T = 8 Ck = 35.07276599626144\n"
     ]
    }
   ],
   "source": [
    "Ts = [2,4,6,8]\n",
    "Ks = [90,100,110]\n",
    "\n",
    "for K in Ks:\n",
    "    for T in Ts:\n",
    "        theta = getTheta(sampleX,T,K)\n",
    "        Ck = getCk(sampleX,T,K,theta)\n",
    "        minusCk = getCk(-sampleX,T,K,theta)\n",
    "        print(\"Simple: K =\",K,\"T =\",T,\"Ck =\",Ck,\"StdError =\",getStdError(sampleX,T,theta))\n",
    "        print(\"Antithetic: K =\",K,\"T =\",T,\"Ck =\",(Ck+minusCk)/2,getStdError(sampleX,T,theta))\n"
   ]
  },
  {
   "cell_type": "code",
   "execution_count": null,
   "id": "446e8c5a",
   "metadata": {},
   "outputs": [],
   "source": []
  }
 ],
 "metadata": {
  "kernelspec": {
   "display_name": "Python 3 (ipykernel)",
   "language": "python",
   "name": "python3"
  },
  "language_info": {
   "codemirror_mode": {
    "name": "ipython",
    "version": 3
   },
   "file_extension": ".py",
   "mimetype": "text/x-python",
   "name": "python",
   "nbconvert_exporter": "python",
   "pygments_lexer": "ipython3",
   "version": "3.8.5"
  }
 },
 "nbformat": 4,
 "nbformat_minor": 5
}
