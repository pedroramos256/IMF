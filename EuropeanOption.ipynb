{
 "cells": [
  {
   "cell_type": "markdown",
   "id": "a4e77dec",
   "metadata": {},
   "source": [
    "# European Options"
   ]
  },
  {
   "cell_type": "code",
   "execution_count": 35,
   "id": "11a18338",
   "metadata": {},
   "outputs": [],
   "source": [
    "import matplotlib.pyplot as plt\n",
    "import numpy as np\n",
    "from tqdm import tqdm\n",
    "import yfinance as yf"
   ]
  },
  {
   "cell_type": "code",
   "execution_count": 36,
   "id": "fd8c89da",
   "metadata": {},
   "outputs": [],
   "source": [
    "S0 = 100\n",
    "r = 0.05\n",
    "sigma = 0.2\n",
    "sampleX = np.random.normal(0,1,10000)\n",
    "\n",
    "def S(X_i,T):\n",
    "    return S0*np.exp((r-sigma**2/2)*T+sigma*np.sqrt(T)*X_i)"
   ]
  },
  {
   "cell_type": "code",
   "execution_count": 37,
   "id": "cdba5af1",
   "metadata": {},
   "outputs": [],
   "source": [
    "def vanillaPayoff(X_i,T,K):\n",
    "    return max(0,S(X_i,T)-K)"
   ]
  },
  {
   "cell_type": "code",
   "execution_count": 38,
   "id": "b54d72a7",
   "metadata": {},
   "outputs": [],
   "source": [
    "def antitheticPayoff(X_i,T,K):\n",
    "    return (max(0,S(X_i,T)-K)+max(0,S(-X_i,T)-K))/2"
   ]
  },
  {
   "cell_type": "code",
   "execution_count": 39,
   "id": "58f9462e",
   "metadata": {},
   "outputs": [],
   "source": [
    "def getCk(X,T,K,payoff):\n",
    "    total = 0\n",
    "    for X_i in X:\n",
    "        total += payoff(X_i,T,K)\n",
    "    return np.exp(-r*T)*total/len(X)"
   ]
  },
  {
   "cell_type": "code",
   "execution_count": 40,
   "id": "b0a35c2b",
   "metadata": {},
   "outputs": [],
   "source": [
    "def getStdError(X,T,K,Ck,payoff):\n",
    "    total = 0\n",
    "    for X_i in X:\n",
    "        total += (np.exp(-r*T)*payoff(X_i,T,K)-Ck)**2\n",
    "    return np.sqrt(total/(len(X)-1))/np.sqrt(len(X))"
   ]
  },
  {
   "cell_type": "code",
   "execution_count": 41,
   "id": "25027b7a",
   "metadata": {},
   "outputs": [
    {
     "data": {
      "image/png": "[encoded data removed]",
      "text/plain": [
       "<Figure size 432x288 with 1 Axes>"
      ]
     },
     "metadata": {
      "needs_background": "light"
     },
     "output_type": "display_data"
    }
   ],
   "source": [
    "plt.hist(sampleX, 50, density=True)\n",
    "plt.show()"
   ]
  },
  {
   "cell_type": "code",
   "execution_count": 42,
   "id": "8dfea456",
   "metadata": {},
   "outputs": [
    {
     "name": "stdout",
     "output_type": "stream",
     "text": [
      "Simple: K = 90 T = 2 Ck = 21.589395286643793 StdError = 0.24310620527595353\n",
      "Antithetic: K = 90 T = 2 Ck = 21.91777538806189 0.09816624602327613\n",
      "Simple: K = 90 T = 4 Ck = 29.960259333864478 StdError = 0.3597342484905666\n",
      "Antithetic: K = 90 T = 4 Ck = 30.46091473136464 0.160027630483979\n",
      "Simple: K = 90 T = 6 Ck = 36.88487859248319 StdError = 0.45903996059734303\n",
      "Antithetic: K = 90 T = 6 Ck = 37.53406315197309 0.21504796143091082\n",
      "Simple: K = 90 T = 8 Ck = 42.861198319271104 StdError = 0.5491154063986017\n",
      "Antithetic: K = 90 T = 8 Ck = 43.646631193345875 0.26729407399389543\n",
      "Simple: K = 100 T = 2 Ck = 15.703278825447077 StdError = 0.21794632655317184\n",
      "Antithetic: K = 100 T = 2 Ck = 16.00325792175954 0.10925876585257527\n",
      "Simple: K = 100 T = 4 Ck = 24.520623332560564 StdError = 0.3384467554423902\n",
      "Antithetic: K = 100 T = 4 Ck = 25.002337660113724 0.17038054057841237\n",
      "Simple: K = 100 T = 6 Ck = 31.84284788550276 StdError = 0.441048739965571\n",
      "Antithetic: K = 100 T = 6 Ck = 32.47905239139333 0.2247344190096142\n",
      "Simple: K = 100 T = 8 Ck = 38.197305803490536 StdError = 0.5338951500560362\n",
      "Antithetic: K = 100 T = 8 Ck = 38.972727581109005 0.2762934925165299\n",
      "Simple: K = 110 T = 2 Ck = 11.088458721707001 StdError = 0.18923753616853842\n",
      "Antithetic: K = 110 T = 2 Ck = 11.328970947835234 0.1107324312282118\n",
      "Simple: K = 110 T = 4 Ck = 19.886450890513572 StdError = 0.3144358585451761\n",
      "Antithetic: K = 110 T = 4 Ck = 20.31795516783525 0.17576384337201312\n",
      "Simple: K = 110 T = 6 Ck = 27.386092355047225 StdError = 0.42084818495522297\n",
      "Antithetic: K = 110 T = 6 Ck = 27.98395849213484 0.231266513568525\n",
      "Simple: K = 110 T = 8 Ck = 33.975699340602276 StdError = 0.5168978863990022\n",
      "Antithetic: K = 110 T = 8 Ck = 34.72639078341423 0.28312269847557403\n"
     ]
    }
   ],
   "source": [
    "Ts = [2,4,6,8]\n",
    "Ks = [90,100,110]\n",
    "\n",
    "for K in Ks:\n",
    "    for T in Ts:\n",
    "        Ck = getCk(sampleX,T,K,vanillaPayoff)\n",
    "        antitheticCk = getCk(sampleX,T,K,antitheticPayoff)\n",
    "        print(\"Simple: K =\",K,\"T =\",T,\"Ck =\",Ck,\"StdError =\",getStdError(sampleX,T,K,Ck,vanillaPayoff))\n",
    "        print(\"Antithetic: K =\",K,\"T =\",T,\"Ck =\",antitheticCk,getStdError(sampleX,T,K,antitheticCk,antitheticPayoff))"
   ]
  },
  {
   "cell_type": "code",
   "execution_count": 44,
   "id": "5f96c027",
   "metadata": {},
   "outputs": [
    {
     "name": "stdout",
     "output_type": "stream",
     "text": [
      "Options(calls=         contractSymbol             lastTradeDate  strike  lastPrice     bid  \\\n",
      "0    SPY220121C00115000 2022-01-19 15:25:14+00:00   115.0     341.91  339.19   \n",
      "1    SPY220121C00120000 2022-01-18 20:28:26+00:00   120.0     333.11  334.20   \n",
      "2    SPY220121C00125000 2021-12-16 20:10:54+00:00   125.0     340.56  339.87   \n",
      "3    SPY220121C00130000 2021-12-23 14:40:21+00:00   130.0     340.33  324.57   \n",
      "4    SPY220121C00135000 2021-12-16 21:05:46+00:00   135.0     331.96  329.87   \n",
      "..                  ...                       ...     ...        ...     ...   \n",
      "275  SPY220121C00605000 2021-12-06 19:11:15+00:00   605.0       0.01    0.00   \n",
      "276  SPY220121C00610000 2021-12-06 14:52:19+00:00   610.0       0.01    0.00   \n",
      "277  SPY220121C00615000 2021-11-09 14:30:05+00:00   615.0       0.01    0.00   \n",
      "278  SPY220121C00620000 2022-01-07 14:48:25+00:00   620.0       0.01    0.00   \n",
      "279  SPY220121C00625000 2022-01-19 15:43:28+00:00   625.0       0.01    0.00   \n",
      "\n",
      "        ask  change  percentChange  volume  openInterest  impliedVolatility  \\\n",
      "0    339.70     0.0            0.0   795.0          1267           8.962895   \n",
      "1    334.71     0.0            0.0   175.0             0           8.707036   \n",
      "2    340.50     0.0            0.0   175.0             0          14.074220   \n",
      "3    325.07     0.0            0.0     1.0             1           8.605473   \n",
      "4    330.50     0.0            0.0   550.0             0          13.282228   \n",
      "..      ...     ...            ...     ...           ...                ...   \n",
      "275    0.01     0.0            0.0    11.0          1902           1.156254   \n",
      "276    0.01     0.0            0.0     9.0          2990           1.187504   \n",
      "277    0.01     0.0            0.0     3.0          1389           1.218754   \n",
      "278    0.01     0.0            0.0    10.0          2496           1.250004   \n",
      "279    0.01     0.0            0.0     5.0          7658           1.281254   \n",
      "\n",
      "     inTheMoney contractSize currency  \n",
      "0          True      REGULAR      USD  \n",
      "1          True      REGULAR      USD  \n",
      "2          True      REGULAR      USD  \n",
      "3          True      REGULAR      USD  \n",
      "4          True      REGULAR      USD  \n",
      "..          ...          ...      ...  \n",
      "275       False      REGULAR      USD  \n",
      "276       False      REGULAR      USD  \n",
      "277       False      REGULAR      USD  \n",
      "278       False      REGULAR      USD  \n",
      "279       False      REGULAR      USD  \n",
      "\n",
      "[280 rows x 14 columns], puts=         contractSymbol             lastTradeDate  strike  lastPrice     bid  \\\n",
      "0    SPY220121P00115000 2022-01-10 18:14:53+00:00   115.0       0.01    0.00   \n",
      "1    SPY220121P00120000 2022-01-06 18:08:27+00:00   120.0       0.01    0.00   \n",
      "2    SPY220121P00125000 2021-12-30 20:30:50+00:00   125.0       0.01    0.00   \n",
      "3    SPY220121P00130000 2021-12-16 14:41:42+00:00   130.0       0.01    0.00   \n",
      "4    SPY220121P00135000 2022-01-12 14:38:13+00:00   135.0       0.01    0.00   \n",
      "..                  ...                       ...     ...        ...     ...   \n",
      "273  SPY220121P00605000 2021-11-16 20:14:33+00:00   605.0     136.80  138.97   \n",
      "274  SPY220121P00610000 2021-11-10 11:58:12+00:00   610.0     161.56  140.58   \n",
      "275  SPY220121P00615000 2021-10-29 16:18:13+00:00   615.0     157.80  157.21   \n",
      "276  SPY220121P00620000 2021-12-21 20:02:39+00:00   620.0     157.25  165.21   \n",
      "277  SPY220121P00625000 2022-01-18 18:19:22+00:00   625.0     168.50  170.21   \n",
      "\n",
      "        ask  change  percentChange  volume  openInterest  impliedVolatility  \\\n",
      "0      0.01     0.0            0.0     3.0       80743.0           5.250003   \n",
      "1      0.01     0.0            0.0     1.0       24677.0           5.125004   \n",
      "2      0.01     0.0            0.0    10.0       19323.0           5.000004   \n",
      "3      0.01     0.0            0.0    25.0       39722.0           4.875004   \n",
      "4      0.01     0.0            0.0     1.0        5074.0           4.625004   \n",
      "..      ...     ...            ...     ...           ...                ...   \n",
      "273  140.17     0.0            0.0     NaN           1.0           0.000010   \n",
      "274  141.21     0.0            0.0     NaN           1.0           0.000010   \n",
      "275  160.68     0.0            0.0    40.0          10.0           0.000010   \n",
      "276  165.73     0.0            0.0    75.0           0.0           0.000010   \n",
      "277  170.71     0.0            0.0     1.0           2.0           0.000010   \n",
      "\n",
      "     inTheMoney contractSize currency  \n",
      "0         False      REGULAR      USD  \n",
      "1         False      REGULAR      USD  \n",
      "2         False      REGULAR      USD  \n",
      "3         False      REGULAR      USD  \n",
      "4         False      REGULAR      USD  \n",
      "..          ...          ...      ...  \n",
      "273        True      REGULAR      USD  \n",
      "274        True      REGULAR      USD  \n",
      "275        True      REGULAR      USD  \n",
      "276        True      REGULAR      USD  \n",
      "277        True      REGULAR      USD  \n",
      "\n",
      "[278 rows x 14 columns])\n"
     ]
    }
   ],
   "source": [
    "spy = yf.Ticker(\"SPY\")\n",
    "opt = spy.option_chain('2022-01-21')\n",
    "print(opt)"
   ]
  },
  {
   "cell_type": "markdown",
   "id": "38133681",
   "metadata": {},
   "source": [
    "# Asian Options"
   ]
  },
  {
   "cell_type": "code",
   "execution_count": null,
   "id": "f184d43a",
   "metadata": {},
   "outputs": [],
   "source": [
    "def getArithmeticAsianCk(X,T,K,m):\n",
    "    total = 0\n",
    "    for X_i in X:\n",
    "        S_list = []\n",
    "        for j in range(m+1):\n",
    "            S_list.append(S(X_i,j*T/m))\n",
    "        total += max(0,np.mean(S_list)-K)\n",
    "    return "
   ]
  },
  {
   "cell_type": "code",
   "execution_count": null,
   "id": "514e7e86",
   "metadata": {},
   "outputs": [
    {
     "name": "stdout",
     "output_type": "stream",
     "text": [
      "None\n",
      "None\n",
      "None\n",
      "None\n",
      "None\n",
      "None\n",
      "None\n",
      "None\n",
      "None\n",
      "None\n",
      "None\n",
      "None\n",
      "None\n",
      "None\n",
      "None\n",
      "None\n",
      "None\n",
      "None\n"
     ]
    }
   ],
   "source": [
    "ms = [10,20,50,100,200,500]\n",
    "T = 1\n",
    "\n",
    "for K in Ks:\n",
    "    for m in ms:\n",
    "        Ck = getArithmeticAsianCk(sampleX,T,K,m)\n",
    "        print(Ck)\n",
    "    \n"
   ]
  }
 ],
 "metadata": {
  "kernelspec": {
   "display_name": "Python 3 (ipykernel)",
   "language": "python",
   "name": "python3"
  },
  "language_info": {
   "codemirror_mode": {
    "name": "ipython",
    "version": 3
   },
   "file_extension": ".py",
   "mimetype": "text/x-python",
   "name": "python",
   "nbconvert_exporter": "python",
   "pygments_lexer": "ipython3",
   "version": "3.9.9"
  }
 },
 "nbformat": 4,
 "nbformat_minor": 5
}
