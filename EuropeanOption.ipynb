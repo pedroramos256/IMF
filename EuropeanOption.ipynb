{
 "cells": [
  {
   "cell_type": "markdown",
   "id": "9f817a40",
   "metadata": {},
   "source": [
    "# European Options"
   ]
  },
  {
   "cell_type": "code",
   "execution_count": 1,
   "id": "11a18338",
   "metadata": {},
   "outputs": [],
   "source": [
    "import matplotlib.pyplot as plt\n",
    "import numpy as np"
   ]
  },
  {
   "cell_type": "code",
   "execution_count": 2,
   "id": "fd8c89da",
   "metadata": {},
   "outputs": [],
   "source": [
    "S0 = 100\n",
    "r = 0.05\n",
    "sigma = 0.2\n",
    "sampleX = np.random.normal(0,1,10000)\n",
    "\n",
    "def S(X_i,T):\n",
    "    return S0*np.exp((r-sigma**2/2)*T+sigma*np.sqrt(T)*X_i)"
   ]
  },
  {
   "cell_type": "code",
   "execution_count": 3,
   "id": "9b42853e",
   "metadata": {},
   "outputs": [],
   "source": [
    "def vanillaPayoff(X_i,T,K):\n",
    "    return max(0,S(X_i,T)-K)"
   ]
  },
  {
   "cell_type": "code",
   "execution_count": 4,
   "id": "6eb1a7d9",
   "metadata": {},
   "outputs": [],
   "source": [
    "def antitheticPayoff(X_i,T,K):\n",
    "    return (max(0,S(X_i,T)-K)+max(0,S(-X_i,T)-K))/2"
   ]
  },
  {
   "cell_type": "code",
   "execution_count": 5,
   "id": "58f9462e",
   "metadata": {},
   "outputs": [],
   "source": [
    "def getCk(X,T,K,payoff):\n",
    "    total = 0\n",
    "    for X_i in X:\n",
    "        total += payoff(X_i,T,K)\n",
    "    return np.exp(-r*T)*total/len(X)"
   ]
  },
  {
   "cell_type": "code",
   "execution_count": 6,
   "id": "b0a35c2b",
   "metadata": {},
   "outputs": [],
   "source": [
    "def getStdError(X,T,K,Ck,payoff):\n",
    "    total = 0\n",
    "    for X_i in X:\n",
    "        total += (np.exp(-r*T)*payoff(X_i,T,K)-Ck)**2\n",
    "    return np.sqrt(total/(len(X)-1))/np.sqrt(len(X))"
   ]
  },
  {
   "cell_type": "code",
   "execution_count": 7,
   "id": "25027b7a",
   "metadata": {},
   "outputs": [
    {
     "data": {
      "image/png": "[encoded data removed]",
      "text/plain": [
       "<Figure size 432x288 with 1 Axes>"
      ]
     },
     "metadata": {
      "needs_background": "light"
     },
     "output_type": "display_data"
    }
   ],
   "source": [
    "plt.hist(sampleX, 50, density=True)\n",
    "plt.show()"
   ]
  },
  {
   "cell_type": "code",
   "execution_count": null,
   "id": "8dfea456",
   "metadata": {},
   "outputs": [],
   "source": [
    "Ks = [90,100,110]\n",
    "Ts = [2,4,6,8]\n",
    "\n",
    "for K in Ks:\n",
    "    for T in Ts:\n",
    "        Ck = getCk(sampleX,T,K,vanillaPayoff)\n",
    "        antitheticCk = getCk(sampleX,T,K,antitheticPayoff)\n",
    "        print(\"Simple: K =\",K,\"T =\",T,\"Ck =\",Ck,\"StdError =\",getStdError(sampleX,T,K,Ck,vanillaPayoff))\n",
    "        print(\"Antithetic: K =\",K,\"T =\",T,\"Ck =\",antitheticCk,getStdError(sampleX,T,K,antitheticCk,antitheticPayoff))"
   ]
  },
  {
   "cell_type": "markdown",
   "id": "fd63f616",
   "metadata": {},
   "source": [
    "# Asian Options"
   ]
  },
  {
   "cell_type": "code",
   "execution_count": 14,
   "id": "3a3779f7",
   "metadata": {},
   "outputs": [],
   "source": [
    "def vanillaPayoff(Slist,K):\n",
    "    return max(0,np.mean(Slist)-K)"
   ]
  },
  {
   "cell_type": "code",
   "execution_count": 22,
   "id": "78899567",
   "metadata": {},
   "outputs": [],
   "source": [
    "def controlVariateVPayoff(Slist,K):\n",
    "    logSlist = list(map(lambda x: np.log(x),Slist))\n",
    "    return (max(0,np.mean(Slist)-K)+max(0,np.exp(np.mean(logSlist))-K))/2"
   ]
  },
  {
   "cell_type": "code",
   "execution_count": null,
   "id": "c3799766",
   "metadata": {},
   "outputs": [],
   "source": [
    "def controlVariateUPayoff(Slist,K):\n",
    "    return (max(0,np.mean(Slist)-K)+max(0,Slist[-1]-K))/2"
   ]
  },
  {
   "cell_type": "code",
   "execution_count": 20,
   "id": "ed65be48",
   "metadata": {},
   "outputs": [],
   "source": [
    "def getArithmeticAsianCk(X,T,K,m,payoff):\n",
    "    total = 0\n",
    "    for X_i in X:\n",
    "        Slist = []\n",
    "        for j in range(m+1):\n",
    "            Slist.append(S(X_i,j*T/m))\n",
    "        total += payoff(X_iSlist,K)\n",
    "    return np.exp(-r*T)*total/len(X)"
   ]
  },
  {
   "cell_type": "code",
   "execution_count": 27,
   "id": "86e157da",
   "metadata": {},
   "outputs": [],
   "source": [
    "def getStdError(X,T,K,Ck,payoff):\n",
    "    total = 0\n",
    "    for X_i in X:\n",
    "        Slist = []\n",
    "        for j in range(m+1):\n",
    "            Slist.append(S(X_i,j*T/m))\n",
    "        total += (np.exp(-r*T)*payoff(Slist,K)-Ck)**2\n",
    "    return np.sqrt(total/(len(X)-1))/np.sqrt(len(X))"
   ]
  },
  {
   "cell_type": "code",
   "execution_count": null,
   "id": "aef66a99",
   "metadata": {
    "scrolled": true
   },
   "outputs": [
    {
     "name": "stdout",
     "output_type": "stream",
     "text": [
      "K 90 m 10 Ck 13.06951308955618 Std Error 0.11570918121334973\n",
      "K 90 m 10 V 13.002760233033069 Std Error 0.11457304346316936\n",
      "K 90 m 20 Ck 13.122227380082029 Std Error 0.11704117515816856\n",
      "K 90 m 20 V 13.065880266982456 Std Error 0.11607448466921394\n",
      "K 90 m 50 Ck 13.15320102155782 Std Error 0.11781262117810781\n",
      "K 90 m 50 V 13.102976641793656 Std Error 0.11694637021880289\n",
      "K 90 m 100 Ck 13.163083494539931 Std Error 0.11805672024373061\n",
      "K 90 m 100 V 13.11481190273325 Std Error 0.11722288812494544\n",
      "K 90 m 200 Ck 13.167838745614018 Std Error 0.11817391272295437\n",
      "K 90 m 200 V 13.120510285937897 Std Error 0.11735580552166489\n",
      "K 90 m 500 Ck 13.170589266379407 Std Error 0.1182416462800092\n",
      "K 90 m 500 V 13.123808604045792 Std Error 0.1174327030814427\n",
      "K 100 m 10 Ck 6.418867084784613 Std Error 0.09072290168935865\n",
      "K 100 m 10 V 6.355592402088557 Std Error 0.08943081601087224\n",
      "K 100 m 20 Ck 6.498827880930464 Std Error 0.09188865555797403\n",
      "K 100 m 20 V 6.4451243547144745 Std Error 0.09079399870459089\n",
      "K 100 m 50 Ck 6.545311158114005 Std Error 0.09256610308072898\n",
      "K 100 m 50 V 6.497257198001323 Std Error 0.09158803407401096\n",
      "K 100 m 100 Ck 6.560053926125695 Std Error 0.09278088476762804\n",
      "K 100 m 100 V 6.513814254361995 Std Error 0.09184024616848163\n",
      "K 100 m 200 Ck 6.567137424174206 Std Error 0.09288404203604354\n",
      "K 100 m 200 V 6.521776406112806 Std Error 0.09196152197303903\n",
      "K 100 m 500 Ck 6.571233053309038 Std Error 0.09294366450017255\n",
      "K 100 m 500 V 6.526383524362409 Std Error 0.09203168662229778\n",
      "K 110 m 10 Ck 2.5513786439454806 Std Error 0.059975911468274745\n",
      "K 110 m 10 V 2.492882251115429 Std Error 0.05857299412443976\n",
      "K 110 m 20 Ck 2.618377215464766 Std Error 0.06110093034554724\n",
      "K 110 m 20 V 2.568654287208973 Std Error 0.0599132981239317\n",
      "K 110 m 50 Ck 2.6575065701842226 Std Error 0.06175522217945122\n",
      "K 110 m 50 V 2.612977110120929 Std Error 0.0606946486902102\n",
      "K 110 m 100 Ck 2.669938871831176 Std Error 0.061962731227111725\n",
      "K 110 m 100 V 2.6270830128454836 Std Error 0.06094291816313462\n",
      "K 110 m 200 Ck 2.6759127390431505 Std Error 0.062062412165177154\n",
      "K 110 m 200 V 2.6338701074025956 Std Error 0.061062315522625574\n"
     ]
    }
   ],
   "source": [
    "Ks = [90,100,110]\n",
    "ms = [10,20,50,100,200,500]\n",
    "T = 1\n",
    "\n",
    "for K in Ks:\n",
    "    for m in ms:\n",
    "        Ck = getArithmeticAsianCk(sampleX,T,K,m,vanillaPayoff)\n",
    "        print(\"K\",K,\"m\",m,\"Ck\",Ck,\"Std Error\",getStdError(sampleX,T,K,Ck,vanillaPayoff))\n",
    "        V = getArithmeticAsianCk(sampleX,T,K,m,controlVariateVPayoff)\n",
    "        print(\"K\",K,\"m\",m,\"V\",V,\"Std Error\",getStdError(sampleX,T,K,V,controlVariateVPayoff))\n",
    "        U = getArithmeticAsianCk(sampleX,T,K,m,controlVariateUPayoff)\n",
    "        print(\"K\",K,\"m\",m,\"V\",U,\"Std Error\",getStdError(sampleX,T,K,U,controlVariateUPayoff))\n"
   ]
  }
 ],
 "metadata": {
  "kernelspec": {
   "display_name": "Python 3 (ipykernel)",
   "language": "python",
   "name": "python3"
  },
  "language_info": {
   "codemirror_mode": {
    "name": "ipython",
    "version": 3
   },
   "file_extension": ".py",
   "mimetype": "text/x-python",
   "name": "python",
   "nbconvert_exporter": "python",
   "pygments_lexer": "ipython3",
   "version": "3.8.5"
  }
 },
 "nbformat": 4,
 "nbformat_minor": 5
}
